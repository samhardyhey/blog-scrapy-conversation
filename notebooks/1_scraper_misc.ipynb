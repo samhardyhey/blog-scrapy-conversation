{
 "cells": [
  {
   "cell_type": "code",
   "execution_count": 4,
   "metadata": {},
   "outputs": [
    {
     "name": "stdout",
     "output_type": "stream",
     "text": [
      "'<div class=\"grid-ten grid-prepend-two large-grid-nine grid-last content-topics topic-list\">\n",
      "      <i class=\"icon-tag\"></i>\n",
      "      <ul>\n",
      "          <li class=\"topic-list-item\">\n",
      "            <a href=\"/topics/photography-428\">Photography</a>\n",
      "          </li>\n",
      "          <li class=\"topic-list-item\">\n",
      "            <a href=\"/topics/sydney-546\">Sydney</a>\n",
      "          </li>\n",
      "          <li class=\"topic-list-item\">\n",
      "            <a href=\"/topics/australian-art-9678\">Australian art</a>\n",
      "          </li>\n",
      "          <li class=\"topic-list-item\">\n",
      "            <a href=\"/topics/portraiture-11431\">Portraiture</a>\n",
      "          </li>\n",
      "          <li class=\"topic-list-item\">\n",
      "            <a href=\"/topics/portraits-93091\">Portraits</a>\n",
      "          </li>\n",
      "      </ul>\n",
      "    </div>'\n"
     ]
    }
   ],
   "source": [
    "x = \"\"\"'<div class=\"grid-ten grid-prepend-two large-grid-nine grid-last content-topics topic-list\">\\n      <i class=\"icon-tag\"></i>\\n      <ul>\\n          <li class=\"topic-list-item\">\\n            <a href=\"/topics/photography-428\">Photography</a>\\n          </li>\\n          <li class=\"topic-list-item\">\\n            <a href=\"/topics/sydney-546\">Sydney</a>\\n          </li>\\n          <li class=\"topic-list-item\">\\n            <a href=\"/topics/australian-art-9678\">Australian art</a>\\n          </li>\\n          <li class=\"topic-list-item\">\\n            <a href=\"/topics/portraiture-11431\">Portraiture</a>\\n          </li>\\n          <li class=\"topic-list-item\">\\n            <a href=\"/topics/portraits-93091\">Portraits</a>\\n          </li>\\n      </ul>\\n    </div>'\"\"\"\n",
    "print(x)"
   ]
  },
  {
   "cell_type": "code",
   "execution_count": 28,
   "metadata": {},
   "outputs": [
    {
     "name": "stdout",
     "output_type": "stream",
     "text": [
      "Requirement already satisfied: python-dateutil in /Users/samhardyhey/miniconda/envs/p38/lib/python3.8/site-packages (2.8.2)\n",
      "Requirement already satisfied: six>=1.5 in /Users/samhardyhey/miniconda/envs/p38/lib/python3.8/site-packages (from python-dateutil) (1.16.0)\n"
     ]
    }
   ],
   "source": [
    "!pip install python-dateutil"
   ]
  },
  {
   "cell_type": "code",
   "execution_count": 48,
   "metadata": {},
   "outputs": [
    {
     "data": {
      "text/plain": [
       "' September 19, 2022 6.15am '"
      ]
     },
     "execution_count": 48,
     "metadata": {},
     "output_type": "execute_result"
    }
   ],
   "source": []
  },
  {
   "cell_type": "code",
   "execution_count": 72,
   "metadata": {},
   "outputs": [
    {
     "ename": "NameError",
     "evalue": "name 'uls' is not defined",
     "output_type": "error",
     "traceback": [
      "\u001b[0;31m---------------------------------------------------------------------------\u001b[0m",
      "\u001b[0;31mNameError\u001b[0m                                 Traceback (most recent call last)",
      "\u001b[1;32m/Users/samhardyhey/Desktop/blog/blog-scrapy-conversation/notebooks/1_scraper_misc.ipynb Cell 5\u001b[0m in \u001b[0;36m<cell line: 5>\u001b[0;34m()\u001b[0m\n\u001b[1;32m      <a href='vscode-notebook-cell:/Users/samhardyhey/Desktop/blog/blog-scrapy-conversation/notebooks/1_scraper_misc.ipynb#X14sZmlsZQ%3D%3D?line=1'>2</a>\u001b[0m soup \u001b[39m=\u001b[39m BeautifulSoup(articles\u001b[39m.\u001b[39mtopics\u001b[39m.\u001b[39miloc[\u001b[39m0\u001b[39m], \u001b[39m\"\u001b[39m\u001b[39mlxml\u001b[39m\u001b[39m\"\u001b[39m)\n\u001b[1;32m      <a href='vscode-notebook-cell:/Users/samhardyhey/Desktop/blog/blog-scrapy-conversation/notebooks/1_scraper_misc.ipynb#X14sZmlsZQ%3D%3D?line=2'>3</a>\u001b[0m lists \u001b[39m=\u001b[39m soup\u001b[39m.\u001b[39mfind_all(\u001b[39m'\u001b[39m\u001b[39mli\u001b[39m\u001b[39m'\u001b[39m)\n\u001b[0;32m----> <a href='vscode-notebook-cell:/Users/samhardyhey/Desktop/blog/blog-scrapy-conversation/notebooks/1_scraper_misc.ipynb#X14sZmlsZQ%3D%3D?line=4'>5</a>\u001b[0m lis \u001b[39m=\u001b[39m [li \u001b[39mfor\u001b[39;00m ul \u001b[39min\u001b[39;00m uls \u001b[39mfor\u001b[39;00m li \u001b[39min\u001b[39;00m soup\u001b[39m.\u001b[39mfindAll(\u001b[39m'\u001b[39m\u001b[39mli\u001b[39m\u001b[39m'\u001b[39m)]\n",
      "\u001b[0;31mNameError\u001b[0m: name 'uls' is not defined"
     ]
    }
   ],
   "source": [
    "\n",
    "from bs4 import BeautifulSoup\n",
    "soup = BeautifulSoup(articles.topics.iloc[0], \"lxml\")\n",
    "lists = soup.find_all('li')\n",
    "\n",
    "lis = [li for ul in uls for li in soup.findAll('li')]\n"
   ]
  },
  {
   "cell_type": "code",
   "execution_count": 87,
   "metadata": {},
   "outputs": [
    {
     "data": {
      "text/plain": [
       "'<li class=\"topic-list-item\">\\n            <a href=\"/topics/climate-change-27\">Climate change</a>\\n          </li>,<li class=\"topic-list-item\">\\n            <a href=\"/topics/philosophy-234\">Philosophy</a>\\n          </li>,<li class=\"topic-list-item\">\\n            <a href=\"/topics/pandemic-1134\">Pandemic</a>\\n          </li>,<li class=\"topic-list-item\">\\n            <a href=\"/topics/generations-1777\">Generations</a>\\n          </li>,<li class=\"topic-list-item\">\\n            <a href=\"/topics/altruism-3707\">Altruism</a>\\n          </li>,<li class=\"topic-list-item\">\\n            <a href=\"/topics/future-generations-8589\">Future generations</a>\\n          </li>,<li class=\"topic-list-item\">\\n            <a href=\"/topics/futurism-10748\">Futurism</a>\\n          </li>,<li class=\"topic-list-item\">\\n            <a href=\"/topics/effective-altruism-16489\">Effective altruism</a>\\n          </li>,<li class=\"topic-list-item\">\\n            <a href=\"/topics/future-18372\">Future</a>\\n          </li>'"
      ]
     },
     "execution_count": 87,
     "metadata": {},
     "output_type": "execute_result"
    }
   ],
   "source": [
    "articles.iloc[0].topics"
   ]
  },
  {
   "cell_type": "code",
   "execution_count": 137,
   "metadata": {},
   "outputs": [],
   "source": [
    "import pandas as pd\n",
    "\n",
    "articles = (pd.read_csv('../output/articles.csv')\n",
    "            #  .pipe(lambda x: x[~x.article.isna()])\n",
    "            )\n",
    "\n",
    "# articles.published.apply(lambda x: parser.parse(x))"
   ]
  },
  {
   "cell_type": "code",
   "execution_count": 154,
   "metadata": {},
   "outputs": [
    {
     "data": {
      "text/plain": [
       "'https://theconversation.com/d-harding-and-kate-harding-two-artists-exploring-connections-between-mother-and-child-and-the-culture-that-forged-them-186825'"
      ]
     },
     "execution_count": 154,
     "metadata": {},
     "output_type": "execute_result"
    }
   ],
   "source": [
    "articles.iloc[3].url"
   ]
  },
  {
   "cell_type": "code",
   "execution_count": 160,
   "metadata": {},
   "outputs": [
    {
     "name": "stdout",
     "output_type": "stream",
     "text": [
      "Sometimes a film comes along that simply feels right. From the opening shot, it envelops us in its world with a commitment that allows us to forgive any shortcomings.\n",
      "Bosch & Rockit is such a film. Written and directed by actor Tyler Atkins – his first time helming a feature film – it’s a coming of age story following teen surfie Rockit (played by pro surfer Rasmus King) and the ups and downs of his relationship with his father, heart-of-gold pot farmer Bosch (Luke Hemsworth).\n",
      "When a fire encroaches on Bosch’s crop, he’s forced to flee the law, including the corrupt cops with whom he’s in business.\n",
      "With his son in tow, Bosch goes to a postcard perfect Byron Bay, where he has a fling with Deb (Isabel Lucas), daughter of the owner of the Sails Motel where they’re staying.\n",
      "Meanwhile Rockit, left largely to his own devices, surfs a lot, eats fish and chips, and begins a friendship of his own with waif Ash (Savannah La Rain), also from a broken home.\n",
      "As the police close in, Rockit is palmed off on his mother, Liz (Aussie screen stalwart Leeanna Walsman), but she struggles to provide the care Rockit needs – she’s an alcoholic – and she ends up dumping him back with his dad.\n",
      "Angry with his parents, Rockit takes a job on a prawn trawler, Ash returns to his life, and their relationship blossoms.\n",
      "A kind of simple magic\n",
      "If it sounds cheesy, it’s because it is. The film is sentimental, formulaic, and unevenly paced – the first two-thirds as they dodge the police feels pleasurably compressed, occurring over a few weeks. The last third seems to merely drift along on the current with several years unfolding.\n",
      "But it’s also incredibly sweet, with charming characters and stellar performances from the two key actors. The lesser-known Hemsworth is rock solid as the macho but sensitive dad, giving a full-bodied performance that convinces us of the tenderness within the egotistical facade.\n",
      "Teenager King is exceptional as the naïve and goofy Rockit. Unsurprisingly, his surfing is superb, and they obviously didn’t need to use a double for him.\n",
      "One of the highlights of the film is the awesome surf photography, and at times it feels like a surfing video with a plot tacked onto it. The stunning underwater images in the opening sequence alone would make the film worth watching.\n",
      "Maybe it’s all a bit too perfect, a bit too clean. We’re talking about drug dealers, corrupt cops and neglectful parents, and yet the whole thing is characterised by a kind of dreamy and ethereal quality, replete with amazing drone footage of surfing, slow-motion images of waves breaking, whales, dolphins, and time-lapse galore staging the coastal terrain in all its glory against the elements. Perhaps it’s all a little too Instagrammatic.\n",
      "And yet, because the film is filtered through the subjectivity of young Rockit, we buy it. As he looks at the ocean with his father and sees a kind of simple magic in it, so does the film look at these characters and scenarios with a simple sensibility.\n",
      "Sincere and earnest\n",
      "Rife with nostalgia, the film embraces an Australian (east) coast aesthetic from an earlier time unspecified, though we assume it’s the late 1990s or early 2000s – there’s dial-up Internet and don’t seem to be mobile phones. Beach bums can still afford to live near the beach in this world; Byron Bay looks far different from the auctioneer’s paradise it is today.\n",
      "Like the most effective coming of age and nostalgia films, Bosch & Rockit taps into the interiority of its protagonist as he looks out at the world, capturing that faintly melancholic moment when a teenager becomes thrilled with big bad life but also realises they’re in it for the most part alone.\n",
      "Bosch & Rockit is a sincere and earnest coming of age film with an understated quality that makes it better than many of its ilk. Its dreamy images unfold in the context of a genuinely touching relationship between father and son.\n",
      "If you like gritty films, or clever films, then you probably won’t like this. There’s nothing knowing about Bosch & Rockit. The plot is rudimentary, but the tone is totally compelling, the characters are likeable, and the surf photography first rate.\n",
      "It’s a film that hits the right notes, even if these aren’t exactly unexpected.\n",
      "Bosch & Rockit is in cinemas from today.\n"
     ]
    }
   ],
   "source": [
    "article = [BeautifulSoup(e, 'lxml').text.strip() for e in articles.iloc[6].article.split('|')]\n",
    "article = [p for p in article if all(skip not in p for skip in ['Read more', 'Review'])]\n",
    "\n",
    "article = '\\n'.join(article)"
   ]
  },
  {
   "cell_type": "code",
   "execution_count": 148,
   "metadata": {},
   "outputs": [
    {
     "name": "stdout",
     "output_type": "stream",
     "text": [
      "This is a time of endings. In the midst of the all-consuming media spectacle surrounding the death of Queen Elizabeth II, “tennis royalty” in the form of Roger Federer will retire in the same week and in the same city that she is laid to rest.\n",
      "When the career of a sporting celebrity concludes, it is widely represented as if they have died, in what journalists call “sports obituaries”.\n",
      "The person in question is usually still alive and will probably go on to be successful in the business, media and/or charity sectors. But the experience of watching them perform live at the stadium or on screen immediately mutates into nostalgic reflection.\n",
      "So, what can be said about the sporting life of “Roger”, one the few people often known solely by their given name?\n",
      "The final curtain\n",
      "When the institution of sport emerged during the late industrial revolution in the 19th century, it changed, as Allen Guttmann famously put it, “from ritual to record”.  It became all about the numbers and the score.\n",
      "By this measure, Federer’s sporting record is formidable – world men’s number one for the best part of six years, 20 Grand Slam singles titles (including six Australian Opens), the only player to win at least ten titles on clay, grass and hard court surfaces, and sundry other tennis achievements.\n",
      "Of course, it has not all gone smoothly. The body that was his finely tuned instrument on the tennis court increasingly failed him, although the steely determination of the champion never wavered.\n",
      "Until, facing one last hurrah but probably playing on one leg, he chose to lower the curtain at the event that he co-created.\n",
      "Named after his tennis hero, the Laver Cup is a testament to Federer’s unusually intense immersion in tennis history and, ultimately, his own place within it. Federer, who arrived as a teenage firebrand, admires not just the impressive tennis record but also the demeanour of Rod Laver.\n",
      "An elegant and courteous stylist who was instrumental in the professionalisation of tennis in the 1960s, he has been a significant role model for Federer.\n",
      "Laver is not just acknowledged as a superlative tennis player, but widely respected and admired. In emulating him, Federer generally behaved well on and off court, although unlike Laver, he sometimes wept with frustration or joy.\n",
      "In the pure aesthetics of tennis, Federer arguably eclipsed the master. No cold-eyed counting of tournament wins can capture the beauty of his backhand, the flourish of his forehand.\n",
      "King Roger and the big three\n",
      "In the early days of his career, the Swiss-South African Federer could have gone the way of Australian Nick Kyrgios, who is more than a decade younger. Both supremely talented and combustible, Federer and Kyrgios went in different directions.\n",
      "Federer became “King Roger”, as he was anointed by the august Times of London in 2018 – a player who trained hard, curbed his temper, and won Wimbledon at the age of 21.\n",
      "Kyrgios, by contrast, emerged as “Nasty Nick”, attracting media and spectator interest as much for his confrontational on-court antics as his sometimes sublime tennis.\n",
      "Even if Kyrgios begins to win Grand Slams while continuing to fascinate younger tennis fans, it is unimaginable he will come close to Federer’s elevated place in the pantheon.\n",
      "Federer’s place in tennis history has been enhanced in part by his membership of the “Big Three” alongside Rafael Nadal and Novak Djokovic – or the “Big Four” if Andy Murray is included.\n",
      "With more than 60 Grand Slams between them, the three rivals dominated men’s tennis, supplying the kind of “golden age” narrative so beloved of terminally sentimental sport fans.\n",
      "Now, with Nadal also prone to injury and Djokovic sacrificing tournaments by refusing to be vaccinated against COVID, Federer’s retirement signals the end of this era.\n",
      "The departure of “Queen Serena Williams” from the women’s game and the youth of the singles winners in the 2022 US Open is further evidence that the wheel has, perhaps mercifully, turned in favour of renewal.\n",
      "But longevity is a major aspect of Federer’s status. He has been at or near the top of tennis for most of the 21st century.\n",
      "Just as most people have only known one Queen of England, young and middle-aged tennis fans have had the comforting certainty of King Roger plying his trade on the world tennis circuit.\n",
      "Unlike constitutional monarchies, though, those of the sporting world are produced by performance, not heredity. The new tennis regime is yet to take shape.\n",
      "Astonishing athleticism\n",
      "I only saw Roger Federer in the flesh once.\n",
      "It was two decades ago in London’s shiny NikeTown, and young Roger – an up-and-coming professional contracted to Nike – was playing an exhibition game with oversized tennis balls and undersized racquets. My initial cynicism was overwhelmed by the astonishing athleticism on display.\n",
      "I thought he’d do well then, but had no idea I was witnessing the rise of the House of Roger.\n",
      "Federer, we are told, may return to such spaces to play post-retirement exhibition games. The Roger Federer Foundation, dedicated to alleviating child poverty through education, could use the money.\n",
      "But before the next phase of King Roger’s life there must be the ceremonial media moment of his appearance in the O2 arena in London, this week’s global capital of farewell ceremonies.\n"
     ]
    }
   ],
   "source": []
  },
  {
   "cell_type": "code",
   "execution_count": 121,
   "metadata": {},
   "outputs": [
    {
     "data": {
      "text/plain": [
       "'For the past ten months, I have photographed hundreds of people in the Western Sydney suburb of Parramatta for a portrait project called Being Together: Parramatta Yearbook.'"
      ]
     },
     "execution_count": 121,
     "metadata": {},
     "output_type": "execute_result"
    }
   ],
   "source": []
  },
  {
   "cell_type": "code",
   "execution_count": 100,
   "metadata": {},
   "outputs": [
    {
     "data": {
      "text/plain": [
       "\"This is a time of endings. In the midst of the all-consuming  media spectacle  surrounding the death of Queen Elizabeth II, “tennis royalty” in the form of Roger Federer will  retire  in the same week and in the same city that she is laid to rest. When the career of a sporting celebrity concludes, it is widely represented as if they have died, in what journalists call “sports obituaries”.   The person in question is usually still alive and will probably go on to be successful in the business, media and/or charity sectors. But the experience of watching them perform live at the stadium or on screen immediately mutates into nostalgic reflection. So, what can be said about the sporting life of “Roger”, one the few people often known solely by their given name? \\n \\n \\n      Read more:\\n       Serena Williams forced sports journalists to get out of the 'toy box' – and cover tennis as more than a game \\n \\n \\n The final curtain When the institution of sport emerged during the late industrial revolution in the 19th century, it changed, as Allen Guttmann famously put it, “ from ritual to record ”.  It became all about the numbers and the score. By this measure, Federer’s sporting record is  formidable  – world men’s number one for the best part of six years, 20 Grand Slam singles titles (including six Australian Opens), the only player to win at least ten titles on clay, grass and hard court surfaces, and sundry other tennis achievements. Of course, it has not all gone smoothly. The body that was his finely tuned instrument on the tennis court increasingly failed him, although the steely determination of the champion never wavered.  Until, facing one last hurrah but probably playing on one leg, he chose to lower the curtain at the event that he co-created. Named after his tennis hero, the  Laver Cup  is a testament to Federer’s unusually intense immersion in tennis history and, ultimately, his own place within it. Federer, who arrived as a  teenage firebrand , admires not just the impressive tennis record but also the demeanour of  Rod Laver .   An elegant and courteous stylist who was instrumental in the professionalisation of tennis in the 1960s, he has been a significant role model for Federer. Laver is not just acknowledged as a superlative tennis player, but widely respected and admired. In emulating him, Federer generally behaved well on and off court, although unlike Laver, he sometimes wept with frustration or joy.   In the pure aesthetics of tennis, Federer arguably eclipsed the master. No cold-eyed counting of tournament wins can capture the beauty of his backhand, the flourish of his forehand. King Roger and the big three In the early days of his career, the Swiss-South African Federer could have gone the way of Australian  Nick Kyrgios , who is more than a decade younger. Both supremely talented and combustible, Federer and Kyrgios went in different directions. Federer became “ King Roger ”, as he was anointed by the august Times of London in 2018 – a player who trained hard, curbed his temper, and won Wimbledon at the age of 21.   Kyrgios, by contrast, emerged as “ Nasty Nick ”, attracting media and spectator interest as much for his confrontational on-court antics as his sometimes sublime tennis.   Even if Kyrgios begins to win Grand Slams while continuing to  fascinate younger tennis  fans, it is unimaginable he will come close to Federer’s elevated place in the pantheon. Federer’s place in tennis history has been enhanced in part by his membership of the “ Big Three ” alongside Rafael Nadal and Novak Djokovic – or the “Big Four” if Andy Murray is included.   With more than 60 Grand Slams between them, the three rivals dominated men’s tennis, supplying the kind of “golden age” narrative so beloved of terminally sentimental sport fans. Now, with Nadal also prone to injury and Djokovic sacrificing tournaments by refusing to be  vaccinated  against COVID, Federer’s retirement signals the end of this era.  The departure of “ Queen Serena Williams ” from the women’s game and the youth of the singles winners in the 2022 US Open is further evidence that the wheel has, perhaps mercifully, turned in favour of renewal. But longevity is a major aspect of Federer’s status. He has been at or near the top of tennis for most of the 21st century.  Just as most people have only known one Queen of England, young and middle-aged tennis fans have had the comforting certainty of King Roger plying his trade on the world tennis circuit.   Unlike constitutional monarchies, though, those of the sporting world are produced by performance, not heredity. The new tennis regime is yet to take shape. \\n \\n \\n      Read more:\\n       Who can break up the 'Big 3' monopoly on men's tennis? Here's what the numbers say \\n \\n \\n Astonishing athleticism I only saw Roger Federer in the flesh once.   It was two decades ago in London’s shiny  NikeTown , and young Roger – an up-and-coming professional contracted to Nike – was playing an exhibition game with oversized tennis balls and undersized racquets. My initial cynicism was overwhelmed by the astonishing athleticism on display.   I thought he’d do well then, but had no idea I was witnessing the rise of the House of Roger. Federer, we are told, may return to such spaces to play post-retirement exhibition games. The  Roger Federer Foundation , dedicated to alleviating child poverty through education, could use the money. But before the next phase of King Roger’s life there must be the  ceremonial media moment  of his appearance in the O2 arena in London, this week’s global capital of farewell ceremonies. \\n \\n \\n      Read more:\\n       What the Ash Barty and 'Special K' tennis triumphs say about Australia and the buttoned-up sport industry \\n \\n \\n\""
      ]
     },
     "execution_count": 100,
     "metadata": {},
     "output_type": "execute_result"
    }
   ],
   "source": [
    "' '.join(soup.find_all(text=True))"
   ]
  },
  {
   "cell_type": "code",
   "execution_count": 14,
   "metadata": {},
   "outputs": [
    {
     "data": {
      "text/plain": [
       "'Michael Noetel'"
      ]
     },
     "execution_count": 14,
     "metadata": {},
     "output_type": "execute_result"
    }
   ],
   "source": [
    "articles.iloc[0].author.strip()"
   ]
  }
 ],
 "metadata": {
  "kernelspec": {
   "display_name": "Python 3.8.13 ('p38')",
   "language": "python",
   "name": "python3"
  },
  "language_info": {
   "codemirror_mode": {
    "name": "ipython",
    "version": 3
   },
   "file_extension": ".py",
   "mimetype": "text/x-python",
   "name": "python",
   "nbconvert_exporter": "python",
   "pygments_lexer": "ipython3",
   "version": "3.8.13"
  },
  "orig_nbformat": 4,
  "vscode": {
   "interpreter": {
    "hash": "bb0121aec9e40b71ec9730e04f00957539fc5aa06febb00ef12b9b6cf43c877e"
   }
  }
 },
 "nbformat": 4,
 "nbformat_minor": 2
}
