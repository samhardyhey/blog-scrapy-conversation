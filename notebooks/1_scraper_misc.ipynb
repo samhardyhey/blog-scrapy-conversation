{
 "cells": [
  {
   "cell_type": "code",
   "execution_count": null,
   "metadata": {},
   "outputs": [],
   "source": [
    "x = \"\"\"'<div class=\"grid-ten grid-prepend-two large-grid-nine grid-last content-topics topic-list\">\\n      <i class=\"icon-tag\"></i>\\n      <ul>\\n          <li class=\"topic-list-item\">\\n            <a href=\"/topics/photography-428\">Photography</a>\\n          </li>\\n          <li class=\"topic-list-item\">\\n            <a href=\"/topics/sydney-546\">Sydney</a>\\n          </li>\\n          <li class=\"topic-list-item\">\\n            <a href=\"/topics/australian-art-9678\">Australian art</a>\\n          </li>\\n          <li class=\"topic-list-item\">\\n            <a href=\"/topics/portraiture-11431\">Portraiture</a>\\n          </li>\\n          <li class=\"topic-list-item\">\\n            <a href=\"/topics/portraits-93091\">Portraits</a>\\n          </li>\\n      </ul>\\n    </div>'\"\"\"\n",
    "print(x)\n",
    ""
   ]
  },
  {
   "cell_type": "code",
   "execution_count": null,
   "metadata": {},
   "outputs": [],
   "source": [
    "!pip install python-dateutil"
   ]
  },
  {
   "cell_type": "code",
   "execution_count": null,
   "metadata": {},
   "outputs": [],
   "source": []
  },
  {
   "cell_type": "code",
   "execution_count": null,
   "metadata": {},
   "outputs": [],
   "source": [
    "from bs4 import BeautifulSoup\n",
    "\n",
    "soup = BeautifulSoup(articles.topics.iloc[0], \"lxml\")\n",
    "lists = soup.find_all(\"li\")\n",
    "\n",
    "lis = [li for ul in uls for li in soup.findAll(\"li\")]\n",
    ""
   ]
  },
  {
   "cell_type": "code",
   "execution_count": null,
   "metadata": {},
   "outputs": [],
   "source": [
    "articles.iloc[0].topics\n",
    ""
   ]
  },
  {
   "cell_type": "code",
   "execution_count": null,
   "metadata": {},
   "outputs": [],
   "source": [
    "import pandas as pd\n",
    "\n",
    "articles = (\n",
    "    pd.read_csv(\"../output/articles.csv\")\n",
    "    #  .pipe(lambda x: x[~x.article.isna()])\n",
    ")\n",
    "\n",
    "# articles.published.apply(lambda x: parser.parse(x))\n",
    ""
   ]
  },
  {
   "cell_type": "code",
   "execution_count": null,
   "metadata": {},
   "outputs": [],
   "source": [
    "articles.topics.tolist()\n",
    ""
   ]
  },
  {
   "cell_type": "code",
   "execution_count": null,
   "metadata": {},
   "outputs": [],
   "source": [
    "[e.strip() for e in BeautifulSoup(articles.topics.iloc[0]).text.split(\"\\n,\")]\n",
    ""
   ]
  },
  {
   "cell_type": "code",
   "execution_count": null,
   "metadata": {},
   "outputs": [],
   "source": [
    "articles.iloc[3].url\n",
    ""
   ]
  },
  {
   "cell_type": "code",
   "execution_count": null,
   "metadata": {},
   "outputs": [],
   "source": []
  },
  {
   "cell_type": "code",
   "execution_count": null,
   "metadata": {},
   "outputs": [],
   "source": []
  },
  {
   "cell_type": "code",
   "execution_count": null,
   "metadata": {},
   "outputs": [],
   "source": []
  },
  {
   "cell_type": "code",
   "execution_count": null,
   "metadata": {},
   "outputs": [],
   "source": [
    "\" \".join(soup.find_all(text=True))\n",
    ""
   ]
  },
  {
   "cell_type": "code",
   "execution_count": null,
   "metadata": {},
   "outputs": [],
   "source": [
    "articles.iloc[0].author.strip()\n",
    ""
   ]
  }
 ],
 "metadata": {
  "kernelspec": {
   "display_name": "Python 3.8.13 ('p38')",
   "language": "python",
   "name": "python3"
  },
  "language_info": {
   "codemirror_mode": {
    "name": "ipython",
    "version": 3
   },
   "file_extension": ".py",
   "mimetype": "text/x-python",
   "name": "python",
   "nbconvert_exporter": "python",
   "pygments_lexer": "ipython3",
   "version": "3.8.13"
  },
  "vscode": {
   "interpreter": {
    "hash": "bb0121aec9e40b71ec9730e04f00957539fc5aa06febb00ef12b9b6cf43c877e"
   }
  }
 },
 "nbformat": 4,
 "nbformat_minor": 2
}
