{
 "cells": [
  {
   "cell_type": "markdown",
   "metadata": {},
   "source": [
    "### Scraper misc"
   ]
  },
  {
   "cell_type": "code",
   "execution_count": null,
   "metadata": {},
   "outputs": [],
   "source": [
    "x = \"\"\"'<div class=\"grid-ten grid-prepend-two large-grid-nine grid-last content-topics topic-list\">\\n      <i class=\"icon-tag\"></i>\\n      <ul>\\n          <li class=\"topic-list-item\">\\n            <a href=\"/topics/photography-428\">Photography</a>\\n          </li>\\n          <li class=\"topic-list-item\">\\n            <a href=\"/topics/sydney-546\">Sydney</a>\\n          </li>\\n          <li class=\"topic-list-item\">\\n            <a href=\"/topics/australian-art-9678\">Australian art</a>\\n          </li>\\n          <li class=\"topic-list-item\">\\n            <a href=\"/topics/portraiture-11431\">Portraiture</a>\\n          </li>\\n          <li class=\"topic-list-item\">\\n            <a href=\"/topics/portraits-93091\">Portraits</a>\\n          </li>\\n      </ul>\\n    </div>'\"\"\"\n",
    "print(x)\n"
   ]
  },
  {
   "cell_type": "code",
   "execution_count": null,
   "metadata": {},
   "outputs": [],
   "source": [
    "!pip install python-dateutil"
   ]
  },
  {
   "cell_type": "code",
   "execution_count": null,
   "metadata": {},
   "outputs": [],
   "source": [
    "from bs4 import BeautifulSoup\n",
    "\n",
    "soup = BeautifulSoup(articles.topics.iloc[0], \"lxml\")\n",
    "lists = soup.find_all(\"li\")\n",
    "\n",
    "lis = [li for ul in uls for li in soup.findAll(\"li\")]\n"
   ]
  },
  {
   "cell_type": "code",
   "execution_count": null,
   "metadata": {},
   "outputs": [],
   "source": [
    "articles.iloc[0].topics\n"
   ]
  },
  {
   "cell_type": "code",
   "execution_count": null,
   "metadata": {},
   "outputs": [],
   "source": [
    "import pandas as pd\n",
    "\n",
    "articles = (\n",
    "    pd.read_csv(\"../output/articles.csv\")\n",
    "    #  .pipe(lambda x: x[~x.article.isna()])\n",
    ")\n",
    "\n",
    "# articles.published.apply(lambda x: parser.parse(x))\n"
   ]
  },
  {
   "cell_type": "code",
   "execution_count": null,
   "metadata": {},
   "outputs": [],
   "source": [
    "articles.topics.tolist()\n"
   ]
  },
  {
   "cell_type": "code",
   "execution_count": null,
   "metadata": {},
   "outputs": [],
   "source": [
    "[e.strip() for e in BeautifulSoup(articles.topics.iloc[0]).text.split(\"\\n,\")]\n"
   ]
  },
  {
   "cell_type": "code",
   "execution_count": null,
   "metadata": {},
   "outputs": [],
   "source": [
    "articles.iloc[3].url\n"
   ]
  },
  {
   "cell_type": "code",
   "execution_count": null,
   "metadata": {},
   "outputs": [],
   "source": [
    "\" \".join(soup.find_all(text=True))\n"
   ]
  },
  {
   "cell_type": "code",
   "execution_count": null,
   "metadata": {},
   "outputs": [],
   "source": [
    "articles.iloc[0].author.strip()\n"
   ]
  },
  {
   "cell_type": "markdown",
   "metadata": {},
   "source": [
    "### Ingest into elastic"
   ]
  },
  {
   "cell_type": "code",
   "execution_count": 1,
   "metadata": {},
   "outputs": [
    {
     "data": {
      "text/html": [
       "<div>\n",
       "<style scoped>\n",
       "    .dataframe tbody tr th:only-of-type {\n",
       "        vertical-align: middle;\n",
       "    }\n",
       "\n",
       "    .dataframe tbody tr th {\n",
       "        vertical-align: top;\n",
       "    }\n",
       "\n",
       "    .dataframe thead th {\n",
       "        text-align: right;\n",
       "    }\n",
       "</style>\n",
       "<table border=\"1\" class=\"dataframe\">\n",
       "  <thead>\n",
       "    <tr style=\"text-align: right;\">\n",
       "      <th></th>\n",
       "      <th>author</th>\n",
       "      <th>article_title</th>\n",
       "      <th>article</th>\n",
       "      <th>published</th>\n",
       "      <th>url</th>\n",
       "      <th>topics</th>\n",
       "    </tr>\n",
       "  </thead>\n",
       "  <tbody>\n",
       "    <tr>\n",
       "      <th>0</th>\n",
       "      <td>Ben Rich</td>\n",
       "      <td>The US is getting embroiled in yet another Mid...</td>\n",
       "      <td>Why the US is intervening\\nWhy US pressure on ...</td>\n",
       "      <td>2024-01-25 12:00:00</td>\n",
       "      <td>https://theconversation.com/the-us-is-getting-...</td>\n",
       "      <td>Joe Biden|Gaza|Yemen|Houthis|US-Israel relatio...</td>\n",
       "    </tr>\n",
       "    <tr>\n",
       "      <th>1</th>\n",
       "      <td>Hugh Breakey</td>\n",
       "      <td>Is cancel culture silencing open debate? There...</td>\n",
       "      <td>Earlier this week, 150 high-profile authors, c...</td>\n",
       "      <td>2020-07-10 14:00:00</td>\n",
       "      <td>https://theconversation.com/is-cancel-culture-...</td>\n",
       "      <td>Censorship|Free speech|Opinion|JK Rowling|Canc...</td>\n",
       "    </tr>\n",
       "    <tr>\n",
       "      <th>2</th>\n",
       "      <td>Dorothy Ann Lee</td>\n",
       "      <td>Is the Anglican Church about to split? It is f...</td>\n",
       "      <td>Almost three years on from same-sex marriage b...</td>\n",
       "      <td>2020-11-26 12:00:00</td>\n",
       "      <td>https://theconversation.com/is-the-anglican-ch...</td>\n",
       "      <td>Marriage equality|Same-sex marriage|Anglican C...</td>\n",
       "    </tr>\n",
       "    <tr>\n",
       "      <th>3</th>\n",
       "      <td>Damian Powell</td>\n",
       "      <td>Changing the culture of our SAS forces is no e...</td>\n",
       "      <td>Australians will be disheartened by the inspec...</td>\n",
       "      <td>2020-11-19 13:00:00</td>\n",
       "      <td>https://theconversation.com/changing-the-cultu...</td>\n",
       "      <td>Afghanistan|Taliban|Defence|War crimes|Special...</td>\n",
       "    </tr>\n",
       "    <tr>\n",
       "      <th>4</th>\n",
       "      <td>Chongyi Feng</td>\n",
       "      <td>What’s behind China’s bullying of Australia? I...</td>\n",
       "      <td>As the diplomatic fallout continues over the d...</td>\n",
       "      <td>2020-12-02 15:00:00</td>\n",
       "      <td>https://theconversation.com/whats-behind-china...</td>\n",
       "      <td>China|Xi Jinping|Communist Party|China-Austral...</td>\n",
       "    </tr>\n",
       "    <tr>\n",
       "      <th>...</th>\n",
       "      <td>...</td>\n",
       "      <td>...</td>\n",
       "      <td>...</td>\n",
       "      <td>...</td>\n",
       "      <td>...</td>\n",
       "      <td>...</td>\n",
       "    </tr>\n",
       "    <tr>\n",
       "      <th>134</th>\n",
       "      <td>Michelle Grattan</td>\n",
       "      <td>View from The Hill: Why should we still be sur...</td>\n",
       "      <td>All prime ministers break promises. But there ...</td>\n",
       "      <td>2024-01-24 16:00:00</td>\n",
       "      <td>https://theconversation.com/view-from-the-hill...</td>\n",
       "      <td>Tax|Cost of living|Jim Chalmers|Prime Minister...</td>\n",
       "    </tr>\n",
       "    <tr>\n",
       "      <th>135</th>\n",
       "      <td>Denis Muller</td>\n",
       "      <td>As new ABC chair, one of Kim Williams’ challen...</td>\n",
       "      <td>Kim Williams takes over as chair of the ABC at...</td>\n",
       "      <td>2024-01-24 16:00:00</td>\n",
       "      <td>https://theconversation.com/as-new-abc-chair-o...</td>\n",
       "      <td>ABC|Kim Williams|Ita Buttrose|ABC board</td>\n",
       "    </tr>\n",
       "    <tr>\n",
       "      <th>136</th>\n",
       "      <td>Richard Baka</td>\n",
       "      <td>2024 is a huge year for the Olympics – and it’...</td>\n",
       "      <td>2024 is a leap year, and in the world of inter...</td>\n",
       "      <td>2024-01-25 12:00:00</td>\n",
       "      <td>https://theconversation.com/2024-is-a-huge-yea...</td>\n",
       "      <td>Australia|Winter olympics|2024 Paris Olympics</td>\n",
       "    </tr>\n",
       "    <tr>\n",
       "      <th>137</th>\n",
       "      <td>Michelle Grattan</td>\n",
       "      <td>Albanese tax plan will give average earner $15...</td>\n",
       "      <td>NaN</td>\n",
       "      <td>2024-01-24 22:00:00</td>\n",
       "      <td>https://theconversation.com/albanese-tax-plan-...</td>\n",
       "      <td>Tax|Anthony Albanese|Stage 3 tax cuts</td>\n",
       "    </tr>\n",
       "    <tr>\n",
       "      <th>138</th>\n",
       "      <td>Olivia Evans</td>\n",
       "      <td>The more you know: people with better understa...</td>\n",
       "      <td>There have been calls to change the date of Au...</td>\n",
       "      <td>2024-01-25 15:00:00</td>\n",
       "      <td>https://theconversation.com/the-more-you-know-...</td>\n",
       "      <td>Australia Day|Aboriginal and Torres Strait Isl...</td>\n",
       "    </tr>\n",
       "  </tbody>\n",
       "</table>\n",
       "<p>139 rows × 6 columns</p>\n",
       "</div>"
      ],
      "text/plain": [
       "               author                                      article_title  \\\n",
       "0            Ben Rich  The US is getting embroiled in yet another Mid...   \n",
       "1        Hugh Breakey  Is cancel culture silencing open debate? There...   \n",
       "2     Dorothy Ann Lee  Is the Anglican Church about to split? It is f...   \n",
       "3       Damian Powell  Changing the culture of our SAS forces is no e...   \n",
       "4        Chongyi Feng  What’s behind China’s bullying of Australia? I...   \n",
       "..                ...                                                ...   \n",
       "134  Michelle Grattan  View from The Hill: Why should we still be sur...   \n",
       "135      Denis Muller  As new ABC chair, one of Kim Williams’ challen...   \n",
       "136      Richard Baka  2024 is a huge year for the Olympics – and it’...   \n",
       "137  Michelle Grattan  Albanese tax plan will give average earner $15...   \n",
       "138      Olivia Evans  The more you know: people with better understa...   \n",
       "\n",
       "                                               article            published  \\\n",
       "0    Why the US is intervening\\nWhy US pressure on ...  2024-01-25 12:00:00   \n",
       "1    Earlier this week, 150 high-profile authors, c...  2020-07-10 14:00:00   \n",
       "2    Almost three years on from same-sex marriage b...  2020-11-26 12:00:00   \n",
       "3    Australians will be disheartened by the inspec...  2020-11-19 13:00:00   \n",
       "4    As the diplomatic fallout continues over the d...  2020-12-02 15:00:00   \n",
       "..                                                 ...                  ...   \n",
       "134  All prime ministers break promises. But there ...  2024-01-24 16:00:00   \n",
       "135  Kim Williams takes over as chair of the ABC at...  2024-01-24 16:00:00   \n",
       "136  2024 is a leap year, and in the world of inter...  2024-01-25 12:00:00   \n",
       "137                                                NaN  2024-01-24 22:00:00   \n",
       "138  There have been calls to change the date of Au...  2024-01-25 15:00:00   \n",
       "\n",
       "                                                   url  \\\n",
       "0    https://theconversation.com/the-us-is-getting-...   \n",
       "1    https://theconversation.com/is-cancel-culture-...   \n",
       "2    https://theconversation.com/is-the-anglican-ch...   \n",
       "3    https://theconversation.com/changing-the-cultu...   \n",
       "4    https://theconversation.com/whats-behind-china...   \n",
       "..                                                 ...   \n",
       "134  https://theconversation.com/view-from-the-hill...   \n",
       "135  https://theconversation.com/as-new-abc-chair-o...   \n",
       "136  https://theconversation.com/2024-is-a-huge-yea...   \n",
       "137  https://theconversation.com/albanese-tax-plan-...   \n",
       "138  https://theconversation.com/the-more-you-know-...   \n",
       "\n",
       "                                                topics  \n",
       "0    Joe Biden|Gaza|Yemen|Houthis|US-Israel relatio...  \n",
       "1    Censorship|Free speech|Opinion|JK Rowling|Canc...  \n",
       "2    Marriage equality|Same-sex marriage|Anglican C...  \n",
       "3    Afghanistan|Taliban|Defence|War crimes|Special...  \n",
       "4    China|Xi Jinping|Communist Party|China-Austral...  \n",
       "..                                                 ...  \n",
       "134  Tax|Cost of living|Jim Chalmers|Prime Minister...  \n",
       "135            ABC|Kim Williams|Ita Buttrose|ABC board  \n",
       "136      Australia|Winter olympics|2024 Paris Olympics  \n",
       "137              Tax|Anthony Albanese|Stage 3 tax cuts  \n",
       "138  Australia Day|Aboriginal and Torres Strait Isl...  \n",
       "\n",
       "[139 rows x 6 columns]"
      ]
     },
     "execution_count": 1,
     "metadata": {},
     "output_type": "execute_result"
    }
   ],
   "source": [
    "import pandas as pd\n",
    "\n",
    "pd.read_csv('../output/expanded_articles.csv')"
   ]
  }
 ],
 "metadata": {
  "kernelspec": {
   "display_name": "p310",
   "language": "python",
   "name": "python3"
  },
  "language_info": {
   "codemirror_mode": {
    "name": "ipython",
    "version": 3
   },
   "file_extension": ".py",
   "mimetype": "text/x-python",
   "name": "python",
   "nbconvert_exporter": "python",
   "pygments_lexer": "ipython3",
   "version": "3.10.10"
  }
 },
 "nbformat": 4,
 "nbformat_minor": 2
}
